{
 "cells": [
  {
   "cell_type": "markdown",
   "metadata": {
    "id": "QoXjobBBfb0N"
   },
   "source": [
    "Target variable enumerates the condition as either malignant = 0, or benign = 1"
   ]
  },
  {
   "cell_type": "code",
   "execution_count": 19,
   "metadata": {
    "id": "MSu6ngzFebci"
   },
   "outputs": [],
   "source": [
    "#Importing required libraries\n",
    "import numpy as np\n",
    "import pandas as pd\n",
    "import matplotlib.pyplot as plt\n",
    "import seaborn as sns\n",
    "import warnings\n",
    "warnings.simplefilter('ignore')"
   ]
  },
  {
   "cell_type": "code",
   "execution_count": 20,
   "metadata": {
    "id": "6zNnXzUPfAE8"
   },
   "outputs": [],
   "source": [
    "#Importing dataset from sklearn\n",
    "from sklearn.datasets import load_breast_cancer\n",
    "#Import classifier from sklearn\n",
    "from sklearn.neighbors import KNeighborsClassifier\n",
    "# Import train_test_split\n",
    "from sklearn.model_selection import train_test_split\n",
    "# Import StandardScaler library\n",
    "from sklearn.preprocessing import StandardScaler\n",
    "# Import libraries for getting model metrics\n",
    "from sklearn.metrics import confusion_matrix,f1_score,accuracy_score,recall_score"
   ]
  },
  {
   "cell_type": "code",
   "execution_count": 21,
   "metadata": {
    "colab": {
     "base_uri": "https://localhost:8080/"
    },
    "id": "4-k33h3afAXQ",
    "outputId": "4a56be0d-3d14-4929-c4eb-2b5290f36f57"
   },
   "outputs": [
    {
     "data": {
      "text/plain": [
       "array(['malignant', 'benign'], dtype='<U9')"
      ]
     },
     "execution_count": 21,
     "metadata": {},
     "output_type": "execute_result"
    }
   ],
   "source": [
    "#Loading dataset from library as a Numpy array\n",
    "raw_data = load_breast_cancer()\n",
    "raw_data.target_names"
   ]
  },
  {
   "cell_type": "code",
   "execution_count": 22,
   "metadata": {
    "colab": {
     "base_uri": "https://localhost:8080/",
     "height": 473
    },
    "id": "zwbfBub5fAe_",
    "outputId": "2c1bd231-e88f-4d70-f1a5-d785e4cb27de"
   },
   "outputs": [
    {
     "data": {
      "text/html": [
       "<div>\n",
       "<style scoped>\n",
       "    .dataframe tbody tr th:only-of-type {\n",
       "        vertical-align: middle;\n",
       "    }\n",
       "\n",
       "    .dataframe tbody tr th {\n",
       "        vertical-align: top;\n",
       "    }\n",
       "\n",
       "    .dataframe thead th {\n",
       "        text-align: right;\n",
       "    }\n",
       "</style>\n",
       "<table border=\"1\" class=\"dataframe\">\n",
       "  <thead>\n",
       "    <tr style=\"text-align: right;\">\n",
       "      <th></th>\n",
       "      <th>(mean radius,)</th>\n",
       "      <th>(mean texture,)</th>\n",
       "      <th>(mean perimeter,)</th>\n",
       "      <th>(mean area,)</th>\n",
       "      <th>(mean smoothness,)</th>\n",
       "      <th>(mean compactness,)</th>\n",
       "      <th>(mean concavity,)</th>\n",
       "      <th>(mean concave points,)</th>\n",
       "      <th>(mean symmetry,)</th>\n",
       "      <th>(mean fractal dimension,)</th>\n",
       "      <th>...</th>\n",
       "      <th>(worst texture,)</th>\n",
       "      <th>(worst perimeter,)</th>\n",
       "      <th>(worst area,)</th>\n",
       "      <th>(worst smoothness,)</th>\n",
       "      <th>(worst compactness,)</th>\n",
       "      <th>(worst concavity,)</th>\n",
       "      <th>(worst concave points,)</th>\n",
       "      <th>(worst symmetry,)</th>\n",
       "      <th>(worst fractal dimension,)</th>\n",
       "      <th>target</th>\n",
       "    </tr>\n",
       "  </thead>\n",
       "  <tbody>\n",
       "    <tr>\n",
       "      <th>0</th>\n",
       "      <td>17.99</td>\n",
       "      <td>10.38</td>\n",
       "      <td>122.80</td>\n",
       "      <td>1001.0</td>\n",
       "      <td>0.11840</td>\n",
       "      <td>0.27760</td>\n",
       "      <td>0.3001</td>\n",
       "      <td>0.14710</td>\n",
       "      <td>0.2419</td>\n",
       "      <td>0.07871</td>\n",
       "      <td>...</td>\n",
       "      <td>17.33</td>\n",
       "      <td>184.60</td>\n",
       "      <td>2019.0</td>\n",
       "      <td>0.1622</td>\n",
       "      <td>0.6656</td>\n",
       "      <td>0.7119</td>\n",
       "      <td>0.2654</td>\n",
       "      <td>0.4601</td>\n",
       "      <td>0.11890</td>\n",
       "      <td>0</td>\n",
       "    </tr>\n",
       "    <tr>\n",
       "      <th>1</th>\n",
       "      <td>20.57</td>\n",
       "      <td>17.77</td>\n",
       "      <td>132.90</td>\n",
       "      <td>1326.0</td>\n",
       "      <td>0.08474</td>\n",
       "      <td>0.07864</td>\n",
       "      <td>0.0869</td>\n",
       "      <td>0.07017</td>\n",
       "      <td>0.1812</td>\n",
       "      <td>0.05667</td>\n",
       "      <td>...</td>\n",
       "      <td>23.41</td>\n",
       "      <td>158.80</td>\n",
       "      <td>1956.0</td>\n",
       "      <td>0.1238</td>\n",
       "      <td>0.1866</td>\n",
       "      <td>0.2416</td>\n",
       "      <td>0.1860</td>\n",
       "      <td>0.2750</td>\n",
       "      <td>0.08902</td>\n",
       "      <td>0</td>\n",
       "    </tr>\n",
       "    <tr>\n",
       "      <th>2</th>\n",
       "      <td>19.69</td>\n",
       "      <td>21.25</td>\n",
       "      <td>130.00</td>\n",
       "      <td>1203.0</td>\n",
       "      <td>0.10960</td>\n",
       "      <td>0.15990</td>\n",
       "      <td>0.1974</td>\n",
       "      <td>0.12790</td>\n",
       "      <td>0.2069</td>\n",
       "      <td>0.05999</td>\n",
       "      <td>...</td>\n",
       "      <td>25.53</td>\n",
       "      <td>152.50</td>\n",
       "      <td>1709.0</td>\n",
       "      <td>0.1444</td>\n",
       "      <td>0.4245</td>\n",
       "      <td>0.4504</td>\n",
       "      <td>0.2430</td>\n",
       "      <td>0.3613</td>\n",
       "      <td>0.08758</td>\n",
       "      <td>0</td>\n",
       "    </tr>\n",
       "    <tr>\n",
       "      <th>3</th>\n",
       "      <td>11.42</td>\n",
       "      <td>20.38</td>\n",
       "      <td>77.58</td>\n",
       "      <td>386.1</td>\n",
       "      <td>0.14250</td>\n",
       "      <td>0.28390</td>\n",
       "      <td>0.2414</td>\n",
       "      <td>0.10520</td>\n",
       "      <td>0.2597</td>\n",
       "      <td>0.09744</td>\n",
       "      <td>...</td>\n",
       "      <td>26.50</td>\n",
       "      <td>98.87</td>\n",
       "      <td>567.7</td>\n",
       "      <td>0.2098</td>\n",
       "      <td>0.8663</td>\n",
       "      <td>0.6869</td>\n",
       "      <td>0.2575</td>\n",
       "      <td>0.6638</td>\n",
       "      <td>0.17300</td>\n",
       "      <td>0</td>\n",
       "    </tr>\n",
       "    <tr>\n",
       "      <th>4</th>\n",
       "      <td>20.29</td>\n",
       "      <td>14.34</td>\n",
       "      <td>135.10</td>\n",
       "      <td>1297.0</td>\n",
       "      <td>0.10030</td>\n",
       "      <td>0.13280</td>\n",
       "      <td>0.1980</td>\n",
       "      <td>0.10430</td>\n",
       "      <td>0.1809</td>\n",
       "      <td>0.05883</td>\n",
       "      <td>...</td>\n",
       "      <td>16.67</td>\n",
       "      <td>152.20</td>\n",
       "      <td>1575.0</td>\n",
       "      <td>0.1374</td>\n",
       "      <td>0.2050</td>\n",
       "      <td>0.4000</td>\n",
       "      <td>0.1625</td>\n",
       "      <td>0.2364</td>\n",
       "      <td>0.07678</td>\n",
       "      <td>0</td>\n",
       "    </tr>\n",
       "  </tbody>\n",
       "</table>\n",
       "<p>5 rows × 31 columns</p>\n",
       "</div>"
      ],
      "text/plain": [
       "   (mean radius,)  (mean texture,)  (mean perimeter,)  (mean area,)  \\\n",
       "0           17.99            10.38             122.80        1001.0   \n",
       "1           20.57            17.77             132.90        1326.0   \n",
       "2           19.69            21.25             130.00        1203.0   \n",
       "3           11.42            20.38              77.58         386.1   \n",
       "4           20.29            14.34             135.10        1297.0   \n",
       "\n",
       "   (mean smoothness,)  (mean compactness,)  (mean concavity,)  \\\n",
       "0             0.11840              0.27760             0.3001   \n",
       "1             0.08474              0.07864             0.0869   \n",
       "2             0.10960              0.15990             0.1974   \n",
       "3             0.14250              0.28390             0.2414   \n",
       "4             0.10030              0.13280             0.1980   \n",
       "\n",
       "   (mean concave points,)  (mean symmetry,)  (mean fractal dimension,)  ...  \\\n",
       "0                 0.14710            0.2419                    0.07871  ...   \n",
       "1                 0.07017            0.1812                    0.05667  ...   \n",
       "2                 0.12790            0.2069                    0.05999  ...   \n",
       "3                 0.10520            0.2597                    0.09744  ...   \n",
       "4                 0.10430            0.1809                    0.05883  ...   \n",
       "\n",
       "   (worst texture,)  (worst perimeter,)  (worst area,)  (worst smoothness,)  \\\n",
       "0             17.33              184.60         2019.0               0.1622   \n",
       "1             23.41              158.80         1956.0               0.1238   \n",
       "2             25.53              152.50         1709.0               0.1444   \n",
       "3             26.50               98.87          567.7               0.2098   \n",
       "4             16.67              152.20         1575.0               0.1374   \n",
       "\n",
       "   (worst compactness,)  (worst concavity,)  (worst concave points,)  \\\n",
       "0                0.6656              0.7119                   0.2654   \n",
       "1                0.1866              0.2416                   0.1860   \n",
       "2                0.4245              0.4504                   0.2430   \n",
       "3                0.8663              0.6869                   0.2575   \n",
       "4                0.2050              0.4000                   0.1625   \n",
       "\n",
       "   (worst symmetry,)  (worst fractal dimension,)  target  \n",
       "0             0.4601                     0.11890       0  \n",
       "1             0.2750                     0.08902       0  \n",
       "2             0.3613                     0.08758       0  \n",
       "3             0.6638                     0.17300       0  \n",
       "4             0.2364                     0.07678       0  \n",
       "\n",
       "[5 rows x 31 columns]"
      ]
     },
     "execution_count": 22,
     "metadata": {},
     "output_type": "execute_result"
    }
   ],
   "source": [
    "#Creating dataframe from Numpy array\n",
    "data_df = pd.DataFrame(raw_data.data,columns =[raw_data.feature_names])\n",
    "data_target = pd.DataFrame(raw_data.target,index=data_df.index, columns=[\"target\"])\n",
    "data_df = pd.concat([data_df,data_target],axis=1)\n",
    "data_df.head()"
   ]
  },
  {
   "cell_type": "code",
   "execution_count": 23,
   "metadata": {
    "colab": {
     "base_uri": "https://localhost:8080/",
     "height": 1000
    },
    "id": "kyjm1DpxfBLk",
    "outputId": "bd5f3064-f1e3-4069-9bef-c14eacbeed93"
   },
   "outputs": [
    {
     "data": {
      "text/html": [
       "<div>\n",
       "<style scoped>\n",
       "    .dataframe tbody tr th:only-of-type {\n",
       "        vertical-align: middle;\n",
       "    }\n",
       "\n",
       "    .dataframe tbody tr th {\n",
       "        vertical-align: top;\n",
       "    }\n",
       "\n",
       "    .dataframe thead th {\n",
       "        text-align: right;\n",
       "    }\n",
       "</style>\n",
       "<table border=\"1\" class=\"dataframe\">\n",
       "  <thead>\n",
       "    <tr style=\"text-align: right;\">\n",
       "      <th></th>\n",
       "      <th>count</th>\n",
       "      <th>mean</th>\n",
       "      <th>std</th>\n",
       "      <th>min</th>\n",
       "      <th>25%</th>\n",
       "      <th>50%</th>\n",
       "      <th>75%</th>\n",
       "      <th>max</th>\n",
       "    </tr>\n",
       "  </thead>\n",
       "  <tbody>\n",
       "    <tr>\n",
       "      <th>(mean radius,)</th>\n",
       "      <td>569.0</td>\n",
       "      <td>14.127292</td>\n",
       "      <td>3.524049</td>\n",
       "      <td>6.981000</td>\n",
       "      <td>11.700000</td>\n",
       "      <td>13.370000</td>\n",
       "      <td>15.780000</td>\n",
       "      <td>28.11000</td>\n",
       "    </tr>\n",
       "    <tr>\n",
       "      <th>(mean texture,)</th>\n",
       "      <td>569.0</td>\n",
       "      <td>19.289649</td>\n",
       "      <td>4.301036</td>\n",
       "      <td>9.710000</td>\n",
       "      <td>16.170000</td>\n",
       "      <td>18.840000</td>\n",
       "      <td>21.800000</td>\n",
       "      <td>39.28000</td>\n",
       "    </tr>\n",
       "    <tr>\n",
       "      <th>(mean perimeter,)</th>\n",
       "      <td>569.0</td>\n",
       "      <td>91.969033</td>\n",
       "      <td>24.298981</td>\n",
       "      <td>43.790000</td>\n",
       "      <td>75.170000</td>\n",
       "      <td>86.240000</td>\n",
       "      <td>104.100000</td>\n",
       "      <td>188.50000</td>\n",
       "    </tr>\n",
       "    <tr>\n",
       "      <th>(mean area,)</th>\n",
       "      <td>569.0</td>\n",
       "      <td>654.889104</td>\n",
       "      <td>351.914129</td>\n",
       "      <td>143.500000</td>\n",
       "      <td>420.300000</td>\n",
       "      <td>551.100000</td>\n",
       "      <td>782.700000</td>\n",
       "      <td>2501.00000</td>\n",
       "    </tr>\n",
       "    <tr>\n",
       "      <th>(mean smoothness,)</th>\n",
       "      <td>569.0</td>\n",
       "      <td>0.096360</td>\n",
       "      <td>0.014064</td>\n",
       "      <td>0.052630</td>\n",
       "      <td>0.086370</td>\n",
       "      <td>0.095870</td>\n",
       "      <td>0.105300</td>\n",
       "      <td>0.16340</td>\n",
       "    </tr>\n",
       "    <tr>\n",
       "      <th>(mean compactness,)</th>\n",
       "      <td>569.0</td>\n",
       "      <td>0.104341</td>\n",
       "      <td>0.052813</td>\n",
       "      <td>0.019380</td>\n",
       "      <td>0.064920</td>\n",
       "      <td>0.092630</td>\n",
       "      <td>0.130400</td>\n",
       "      <td>0.34540</td>\n",
       "    </tr>\n",
       "    <tr>\n",
       "      <th>(mean concavity,)</th>\n",
       "      <td>569.0</td>\n",
       "      <td>0.088799</td>\n",
       "      <td>0.079720</td>\n",
       "      <td>0.000000</td>\n",
       "      <td>0.029560</td>\n",
       "      <td>0.061540</td>\n",
       "      <td>0.130700</td>\n",
       "      <td>0.42680</td>\n",
       "    </tr>\n",
       "    <tr>\n",
       "      <th>(mean concave points,)</th>\n",
       "      <td>569.0</td>\n",
       "      <td>0.048919</td>\n",
       "      <td>0.038803</td>\n",
       "      <td>0.000000</td>\n",
       "      <td>0.020310</td>\n",
       "      <td>0.033500</td>\n",
       "      <td>0.074000</td>\n",
       "      <td>0.20120</td>\n",
       "    </tr>\n",
       "    <tr>\n",
       "      <th>(mean symmetry,)</th>\n",
       "      <td>569.0</td>\n",
       "      <td>0.181162</td>\n",
       "      <td>0.027414</td>\n",
       "      <td>0.106000</td>\n",
       "      <td>0.161900</td>\n",
       "      <td>0.179200</td>\n",
       "      <td>0.195700</td>\n",
       "      <td>0.30400</td>\n",
       "    </tr>\n",
       "    <tr>\n",
       "      <th>(mean fractal dimension,)</th>\n",
       "      <td>569.0</td>\n",
       "      <td>0.062798</td>\n",
       "      <td>0.007060</td>\n",
       "      <td>0.049960</td>\n",
       "      <td>0.057700</td>\n",
       "      <td>0.061540</td>\n",
       "      <td>0.066120</td>\n",
       "      <td>0.09744</td>\n",
       "    </tr>\n",
       "    <tr>\n",
       "      <th>(radius error,)</th>\n",
       "      <td>569.0</td>\n",
       "      <td>0.405172</td>\n",
       "      <td>0.277313</td>\n",
       "      <td>0.111500</td>\n",
       "      <td>0.232400</td>\n",
       "      <td>0.324200</td>\n",
       "      <td>0.478900</td>\n",
       "      <td>2.87300</td>\n",
       "    </tr>\n",
       "    <tr>\n",
       "      <th>(texture error,)</th>\n",
       "      <td>569.0</td>\n",
       "      <td>1.216853</td>\n",
       "      <td>0.551648</td>\n",
       "      <td>0.360200</td>\n",
       "      <td>0.833900</td>\n",
       "      <td>1.108000</td>\n",
       "      <td>1.474000</td>\n",
       "      <td>4.88500</td>\n",
       "    </tr>\n",
       "    <tr>\n",
       "      <th>(perimeter error,)</th>\n",
       "      <td>569.0</td>\n",
       "      <td>2.866059</td>\n",
       "      <td>2.021855</td>\n",
       "      <td>0.757000</td>\n",
       "      <td>1.606000</td>\n",
       "      <td>2.287000</td>\n",
       "      <td>3.357000</td>\n",
       "      <td>21.98000</td>\n",
       "    </tr>\n",
       "    <tr>\n",
       "      <th>(area error,)</th>\n",
       "      <td>569.0</td>\n",
       "      <td>40.337079</td>\n",
       "      <td>45.491006</td>\n",
       "      <td>6.802000</td>\n",
       "      <td>17.850000</td>\n",
       "      <td>24.530000</td>\n",
       "      <td>45.190000</td>\n",
       "      <td>542.20000</td>\n",
       "    </tr>\n",
       "    <tr>\n",
       "      <th>(smoothness error,)</th>\n",
       "      <td>569.0</td>\n",
       "      <td>0.007041</td>\n",
       "      <td>0.003003</td>\n",
       "      <td>0.001713</td>\n",
       "      <td>0.005169</td>\n",
       "      <td>0.006380</td>\n",
       "      <td>0.008146</td>\n",
       "      <td>0.03113</td>\n",
       "    </tr>\n",
       "    <tr>\n",
       "      <th>(compactness error,)</th>\n",
       "      <td>569.0</td>\n",
       "      <td>0.025478</td>\n",
       "      <td>0.017908</td>\n",
       "      <td>0.002252</td>\n",
       "      <td>0.013080</td>\n",
       "      <td>0.020450</td>\n",
       "      <td>0.032450</td>\n",
       "      <td>0.13540</td>\n",
       "    </tr>\n",
       "    <tr>\n",
       "      <th>(concavity error,)</th>\n",
       "      <td>569.0</td>\n",
       "      <td>0.031894</td>\n",
       "      <td>0.030186</td>\n",
       "      <td>0.000000</td>\n",
       "      <td>0.015090</td>\n",
       "      <td>0.025890</td>\n",
       "      <td>0.042050</td>\n",
       "      <td>0.39600</td>\n",
       "    </tr>\n",
       "    <tr>\n",
       "      <th>(concave points error,)</th>\n",
       "      <td>569.0</td>\n",
       "      <td>0.011796</td>\n",
       "      <td>0.006170</td>\n",
       "      <td>0.000000</td>\n",
       "      <td>0.007638</td>\n",
       "      <td>0.010930</td>\n",
       "      <td>0.014710</td>\n",
       "      <td>0.05279</td>\n",
       "    </tr>\n",
       "    <tr>\n",
       "      <th>(symmetry error,)</th>\n",
       "      <td>569.0</td>\n",
       "      <td>0.020542</td>\n",
       "      <td>0.008266</td>\n",
       "      <td>0.007882</td>\n",
       "      <td>0.015160</td>\n",
       "      <td>0.018730</td>\n",
       "      <td>0.023480</td>\n",
       "      <td>0.07895</td>\n",
       "    </tr>\n",
       "    <tr>\n",
       "      <th>(fractal dimension error,)</th>\n",
       "      <td>569.0</td>\n",
       "      <td>0.003795</td>\n",
       "      <td>0.002646</td>\n",
       "      <td>0.000895</td>\n",
       "      <td>0.002248</td>\n",
       "      <td>0.003187</td>\n",
       "      <td>0.004558</td>\n",
       "      <td>0.02984</td>\n",
       "    </tr>\n",
       "    <tr>\n",
       "      <th>(worst radius,)</th>\n",
       "      <td>569.0</td>\n",
       "      <td>16.269190</td>\n",
       "      <td>4.833242</td>\n",
       "      <td>7.930000</td>\n",
       "      <td>13.010000</td>\n",
       "      <td>14.970000</td>\n",
       "      <td>18.790000</td>\n",
       "      <td>36.04000</td>\n",
       "    </tr>\n",
       "    <tr>\n",
       "      <th>(worst texture,)</th>\n",
       "      <td>569.0</td>\n",
       "      <td>25.677223</td>\n",
       "      <td>6.146258</td>\n",
       "      <td>12.020000</td>\n",
       "      <td>21.080000</td>\n",
       "      <td>25.410000</td>\n",
       "      <td>29.720000</td>\n",
       "      <td>49.54000</td>\n",
       "    </tr>\n",
       "    <tr>\n",
       "      <th>(worst perimeter,)</th>\n",
       "      <td>569.0</td>\n",
       "      <td>107.261213</td>\n",
       "      <td>33.602542</td>\n",
       "      <td>50.410000</td>\n",
       "      <td>84.110000</td>\n",
       "      <td>97.660000</td>\n",
       "      <td>125.400000</td>\n",
       "      <td>251.20000</td>\n",
       "    </tr>\n",
       "    <tr>\n",
       "      <th>(worst area,)</th>\n",
       "      <td>569.0</td>\n",
       "      <td>880.583128</td>\n",
       "      <td>569.356993</td>\n",
       "      <td>185.200000</td>\n",
       "      <td>515.300000</td>\n",
       "      <td>686.500000</td>\n",
       "      <td>1084.000000</td>\n",
       "      <td>4254.00000</td>\n",
       "    </tr>\n",
       "    <tr>\n",
       "      <th>(worst smoothness,)</th>\n",
       "      <td>569.0</td>\n",
       "      <td>0.132369</td>\n",
       "      <td>0.022832</td>\n",
       "      <td>0.071170</td>\n",
       "      <td>0.116600</td>\n",
       "      <td>0.131300</td>\n",
       "      <td>0.146000</td>\n",
       "      <td>0.22260</td>\n",
       "    </tr>\n",
       "    <tr>\n",
       "      <th>(worst compactness,)</th>\n",
       "      <td>569.0</td>\n",
       "      <td>0.254265</td>\n",
       "      <td>0.157336</td>\n",
       "      <td>0.027290</td>\n",
       "      <td>0.147200</td>\n",
       "      <td>0.211900</td>\n",
       "      <td>0.339100</td>\n",
       "      <td>1.05800</td>\n",
       "    </tr>\n",
       "    <tr>\n",
       "      <th>(worst concavity,)</th>\n",
       "      <td>569.0</td>\n",
       "      <td>0.272188</td>\n",
       "      <td>0.208624</td>\n",
       "      <td>0.000000</td>\n",
       "      <td>0.114500</td>\n",
       "      <td>0.226700</td>\n",
       "      <td>0.382900</td>\n",
       "      <td>1.25200</td>\n",
       "    </tr>\n",
       "    <tr>\n",
       "      <th>(worst concave points,)</th>\n",
       "      <td>569.0</td>\n",
       "      <td>0.114606</td>\n",
       "      <td>0.065732</td>\n",
       "      <td>0.000000</td>\n",
       "      <td>0.064930</td>\n",
       "      <td>0.099930</td>\n",
       "      <td>0.161400</td>\n",
       "      <td>0.29100</td>\n",
       "    </tr>\n",
       "    <tr>\n",
       "      <th>(worst symmetry,)</th>\n",
       "      <td>569.0</td>\n",
       "      <td>0.290076</td>\n",
       "      <td>0.061867</td>\n",
       "      <td>0.156500</td>\n",
       "      <td>0.250400</td>\n",
       "      <td>0.282200</td>\n",
       "      <td>0.317900</td>\n",
       "      <td>0.66380</td>\n",
       "    </tr>\n",
       "    <tr>\n",
       "      <th>(worst fractal dimension,)</th>\n",
       "      <td>569.0</td>\n",
       "      <td>0.083946</td>\n",
       "      <td>0.018061</td>\n",
       "      <td>0.055040</td>\n",
       "      <td>0.071460</td>\n",
       "      <td>0.080040</td>\n",
       "      <td>0.092080</td>\n",
       "      <td>0.20750</td>\n",
       "    </tr>\n",
       "    <tr>\n",
       "      <th>target</th>\n",
       "      <td>569.0</td>\n",
       "      <td>0.627417</td>\n",
       "      <td>0.483918</td>\n",
       "      <td>0.000000</td>\n",
       "      <td>0.000000</td>\n",
       "      <td>1.000000</td>\n",
       "      <td>1.000000</td>\n",
       "      <td>1.00000</td>\n",
       "    </tr>\n",
       "  </tbody>\n",
       "</table>\n",
       "</div>"
      ],
      "text/plain": [
       "                            count        mean         std         min  \\\n",
       "(mean radius,)              569.0   14.127292    3.524049    6.981000   \n",
       "(mean texture,)             569.0   19.289649    4.301036    9.710000   \n",
       "(mean perimeter,)           569.0   91.969033   24.298981   43.790000   \n",
       "(mean area,)                569.0  654.889104  351.914129  143.500000   \n",
       "(mean smoothness,)          569.0    0.096360    0.014064    0.052630   \n",
       "(mean compactness,)         569.0    0.104341    0.052813    0.019380   \n",
       "(mean concavity,)           569.0    0.088799    0.079720    0.000000   \n",
       "(mean concave points,)      569.0    0.048919    0.038803    0.000000   \n",
       "(mean symmetry,)            569.0    0.181162    0.027414    0.106000   \n",
       "(mean fractal dimension,)   569.0    0.062798    0.007060    0.049960   \n",
       "(radius error,)             569.0    0.405172    0.277313    0.111500   \n",
       "(texture error,)            569.0    1.216853    0.551648    0.360200   \n",
       "(perimeter error,)          569.0    2.866059    2.021855    0.757000   \n",
       "(area error,)               569.0   40.337079   45.491006    6.802000   \n",
       "(smoothness error,)         569.0    0.007041    0.003003    0.001713   \n",
       "(compactness error,)        569.0    0.025478    0.017908    0.002252   \n",
       "(concavity error,)          569.0    0.031894    0.030186    0.000000   \n",
       "(concave points error,)     569.0    0.011796    0.006170    0.000000   \n",
       "(symmetry error,)           569.0    0.020542    0.008266    0.007882   \n",
       "(fractal dimension error,)  569.0    0.003795    0.002646    0.000895   \n",
       "(worst radius,)             569.0   16.269190    4.833242    7.930000   \n",
       "(worst texture,)            569.0   25.677223    6.146258   12.020000   \n",
       "(worst perimeter,)          569.0  107.261213   33.602542   50.410000   \n",
       "(worst area,)               569.0  880.583128  569.356993  185.200000   \n",
       "(worst smoothness,)         569.0    0.132369    0.022832    0.071170   \n",
       "(worst compactness,)        569.0    0.254265    0.157336    0.027290   \n",
       "(worst concavity,)          569.0    0.272188    0.208624    0.000000   \n",
       "(worst concave points,)     569.0    0.114606    0.065732    0.000000   \n",
       "(worst symmetry,)           569.0    0.290076    0.061867    0.156500   \n",
       "(worst fractal dimension,)  569.0    0.083946    0.018061    0.055040   \n",
       "target                      569.0    0.627417    0.483918    0.000000   \n",
       "\n",
       "                                   25%         50%          75%         max  \n",
       "(mean radius,)               11.700000   13.370000    15.780000    28.11000  \n",
       "(mean texture,)              16.170000   18.840000    21.800000    39.28000  \n",
       "(mean perimeter,)            75.170000   86.240000   104.100000   188.50000  \n",
       "(mean area,)                420.300000  551.100000   782.700000  2501.00000  \n",
       "(mean smoothness,)            0.086370    0.095870     0.105300     0.16340  \n",
       "(mean compactness,)           0.064920    0.092630     0.130400     0.34540  \n",
       "(mean concavity,)             0.029560    0.061540     0.130700     0.42680  \n",
       "(mean concave points,)        0.020310    0.033500     0.074000     0.20120  \n",
       "(mean symmetry,)              0.161900    0.179200     0.195700     0.30400  \n",
       "(mean fractal dimension,)     0.057700    0.061540     0.066120     0.09744  \n",
       "(radius error,)               0.232400    0.324200     0.478900     2.87300  \n",
       "(texture error,)              0.833900    1.108000     1.474000     4.88500  \n",
       "(perimeter error,)            1.606000    2.287000     3.357000    21.98000  \n",
       "(area error,)                17.850000   24.530000    45.190000   542.20000  \n",
       "(smoothness error,)           0.005169    0.006380     0.008146     0.03113  \n",
       "(compactness error,)          0.013080    0.020450     0.032450     0.13540  \n",
       "(concavity error,)            0.015090    0.025890     0.042050     0.39600  \n",
       "(concave points error,)       0.007638    0.010930     0.014710     0.05279  \n",
       "(symmetry error,)             0.015160    0.018730     0.023480     0.07895  \n",
       "(fractal dimension error,)    0.002248    0.003187     0.004558     0.02984  \n",
       "(worst radius,)              13.010000   14.970000    18.790000    36.04000  \n",
       "(worst texture,)             21.080000   25.410000    29.720000    49.54000  \n",
       "(worst perimeter,)           84.110000   97.660000   125.400000   251.20000  \n",
       "(worst area,)               515.300000  686.500000  1084.000000  4254.00000  \n",
       "(worst smoothness,)           0.116600    0.131300     0.146000     0.22260  \n",
       "(worst compactness,)          0.147200    0.211900     0.339100     1.05800  \n",
       "(worst concavity,)            0.114500    0.226700     0.382900     1.25200  \n",
       "(worst concave points,)       0.064930    0.099930     0.161400     0.29100  \n",
       "(worst symmetry,)             0.250400    0.282200     0.317900     0.66380  \n",
       "(worst fractal dimension,)    0.071460    0.080040     0.092080     0.20750  \n",
       "target                        0.000000    1.000000     1.000000     1.00000  "
      ]
     },
     "execution_count": 23,
     "metadata": {},
     "output_type": "execute_result"
    }
   ],
   "source": [
    "data_df.describe().T"
   ]
  },
  {
   "cell_type": "code",
   "execution_count": 24,
   "metadata": {
    "colab": {
     "base_uri": "https://localhost:8080/"
    },
    "id": "5woGrAtEfBVk",
    "outputId": "60c884f7-5936-4100-8858-eaff3017318c"
   },
   "outputs": [
    {
     "data": {
      "text/plain": [
       "(mean radius,)                0\n",
       "(mean texture,)               0\n",
       "(mean perimeter,)             0\n",
       "(mean area,)                  0\n",
       "(mean smoothness,)            0\n",
       "(mean compactness,)           0\n",
       "(mean concavity,)             0\n",
       "(mean concave points,)        0\n",
       "(mean symmetry,)              0\n",
       "(mean fractal dimension,)     0\n",
       "(radius error,)               0\n",
       "(texture error,)              0\n",
       "(perimeter error,)            0\n",
       "(area error,)                 0\n",
       "(smoothness error,)           0\n",
       "(compactness error,)          0\n",
       "(concavity error,)            0\n",
       "(concave points error,)       0\n",
       "(symmetry error,)             0\n",
       "(fractal dimension error,)    0\n",
       "(worst radius,)               0\n",
       "(worst texture,)              0\n",
       "(worst perimeter,)            0\n",
       "(worst area,)                 0\n",
       "(worst smoothness,)           0\n",
       "(worst compactness,)          0\n",
       "(worst concavity,)            0\n",
       "(worst concave points,)       0\n",
       "(worst symmetry,)             0\n",
       "(worst fractal dimension,)    0\n",
       "target                        0\n",
       "dtype: int64"
      ]
     },
     "execution_count": 24,
     "metadata": {},
     "output_type": "execute_result"
    }
   ],
   "source": [
    "# Checks for any null values in the dataframe\n",
    "data_df.isnull().sum()"
   ]
  },
  {
   "cell_type": "code",
   "execution_count": 25,
   "metadata": {
    "colab": {
     "base_uri": "https://localhost:8080/"
    },
    "id": "eTAv3A1QgPxI",
    "outputId": "e2140ed9-d3d7-4887-b622-fd57b7e5f44a"
   },
   "outputs": [
    {
     "data": {
      "text/plain": [
       "0      0\n",
       "1      0\n",
       "2      0\n",
       "3      0\n",
       "4      0\n",
       "      ..\n",
       "564    0\n",
       "565    0\n",
       "566    0\n",
       "567    0\n",
       "568    1\n",
       "Name: target, Length: 569, dtype: int32"
      ]
     },
     "execution_count": 25,
     "metadata": {},
     "output_type": "execute_result"
    }
   ],
   "source": [
    "data_df['target']"
   ]
  },
  {
   "cell_type": "code",
   "execution_count": 27,
   "metadata": {
    "colab": {
     "base_uri": "https://localhost:8080/",
     "height": 530
    },
    "id": "AuUioriagQI6",
    "outputId": "4b24dfdb-bc28-410c-e896-42b0aad13b4c"
   },
   "outputs": [
    {
     "data": {
      "text/plain": [
       "<AxesSubplot:title={'center':'Comparison of malignant and benign cases'}, xlabel='target', ylabel='count'>"
      ]
     },
     "execution_count": 27,
     "metadata": {},
     "output_type": "execute_result"
    },
    {
     "data": {
      "image/png": "[encoded data removed]",
      "text/plain": [
       "<Figure size 360x360 with 1 Axes>"
      ]
     },
     "metadata": {
      "needs_background": "light"
     },
     "output_type": "display_data"
    }
   ],
   "source": [
    "plt.figure(figsize=(5,5))\n",
    "plt.title('Comparison of malignant and benign cases')\n",
    "plt.xlabel('Target')\n",
    "plt.ylabel('Count of cases')\n",
    "sns.countplot(x='target',data=data_df)"
   ]
  },
  {
   "cell_type": "code",
   "execution_count": 9,
   "metadata": {
    "colab": {
     "base_uri": "https://localhost:8080/"
    },
    "id": "sT6MPM2GgQTf",
    "outputId": "e564b538-8d3e-45a4-ff57-5c02a27d0dd4"
   },
   "outputs": [
    {
     "data": {
      "text/plain": [
       "0      0\n",
       "1      0\n",
       "2      0\n",
       "3      0\n",
       "4      0\n",
       "      ..\n",
       "564    0\n",
       "565    0\n",
       "566    0\n",
       "567    0\n",
       "568    1\n",
       "Name: target, Length: 569, dtype: int32"
      ]
     },
     "execution_count": 9,
     "metadata": {},
     "output_type": "execute_result"
    }
   ],
   "source": [
    "#Defining x and y for training and testing\n",
    "x = data_df.iloc[:,0:29]\n",
    "y = data_df['target']\n",
    "y"
   ]
  },
  {
   "cell_type": "code",
   "execution_count": 10,
   "metadata": {
    "id": "zDtxZ1VAgQcH"
   },
   "outputs": [],
   "source": [
    "#Splitting x and y into training and testing data\n",
    "x_train,x_test,y_train,y_test = train_test_split(x,y,test_size=0.2)"
   ]
  },
  {
   "cell_type": "code",
   "execution_count": 11,
   "metadata": {
    "colab": {
     "base_uri": "https://localhost:8080/"
    },
    "id": "0xpiZCcngQkX",
    "outputId": "172a31a6-30b6-49ec-a386-1417bfe8db33"
   },
   "outputs": [
    {
     "data": {
      "text/plain": [
       "array([[ 1.10842455, -0.56772258,  1.05162563, ...,  0.75230694,\n",
       "         0.59221988, -0.09505385],\n",
       "       [ 0.42111019,  0.0210254 ,  0.33079712, ..., -0.22159034,\n",
       "        -0.44044795, -0.35228097],\n",
       "       [-0.20656118, -0.54445191, -0.26728458, ..., -0.65144844,\n",
       "        -0.68118046, -0.25844969],\n",
       "       ...,\n",
       "       [ 3.77531785,  1.62437465,  3.91022552, ...,  1.97231717,\n",
       "         2.251919  , -0.42022775],\n",
       "       [-0.75470858, -0.75854209, -0.78051448, ..., -0.83456992,\n",
       "        -0.74802522, -0.08049383],\n",
       "       [-0.74334801,  1.07984094, -0.71872918, ...,  0.43567039,\n",
       "        -0.27523937, -1.2760337 ]])"
      ]
     },
     "execution_count": 11,
     "metadata": {},
     "output_type": "execute_result"
    }
   ],
   "source": [
    "# Using StandardScaler to make all values in the x_train and x_test fit between 0 and 1\n",
    "scaler = StandardScaler()\n",
    "scaler.fit(x)\n",
    "scaler.transform(x_train)\n",
    "scaler.transform(x_test)"
   ]
  },
  {
   "cell_type": "code",
   "execution_count": 12,
   "metadata": {
    "colab": {
     "base_uri": "https://localhost:8080/"
    },
    "id": "4h8hfEUmgQr4",
    "outputId": "bf843917-6f66-4a0a-fabb-a8ee0a7729cc"
   },
   "outputs": [
    {
     "data": {
      "text/plain": [
       "KNeighborsClassifier(metric='euclidean', n_neighbors=3)"
      ]
     },
     "execution_count": 12,
     "metadata": {},
     "output_type": "execute_result"
    }
   ],
   "source": [
    "# Creating kNN classifier object and training the model\n",
    "knn = KNeighborsClassifier(n_neighbors=3,metric='euclidean')\n",
    "knn.fit(x_train,y_train)"
   ]
  },
  {
   "cell_type": "code",
   "execution_count": 13,
   "metadata": {
    "colab": {
     "base_uri": "https://localhost:8080/"
    },
    "id": "sgyLSrAHgQzt",
    "outputId": "350137f0-ef61-43fc-9a08-37e07dbcf33a"
   },
   "outputs": [
    {
     "data": {
      "text/plain": [
       "array([0, 0, 1, 0, 1, 0, 1, 1, 0, 1, 1, 1, 1, 0, 1, 1, 1, 1, 0, 1, 0, 1,\n",
       "       1, 0, 0, 1, 1, 1, 1, 0, 0, 1, 0, 0, 1, 1, 1, 0, 1, 1, 0, 1, 0, 0,\n",
       "       0, 1, 1, 1, 1, 0, 1, 0, 0, 1, 1, 1, 0, 1, 1, 1, 1, 1, 0, 1, 0, 1,\n",
       "       1, 0, 1, 1, 1, 1, 1, 1, 1, 0, 1, 0, 1, 1, 0, 1, 1, 0, 0, 1, 0, 1,\n",
       "       0, 1, 0, 1, 1, 0, 1, 1, 1, 1, 0, 0, 0, 1, 0, 1, 1, 1, 1, 1, 1, 0,\n",
       "       1, 0, 1, 1])"
      ]
     },
     "execution_count": 13,
     "metadata": {},
     "output_type": "execute_result"
    }
   ],
   "source": [
    "# Predicting using the x_test data\n",
    "y_pred = knn.predict(x_test)\n",
    "y_pred"
   ]
  },
  {
   "cell_type": "code",
   "execution_count": 14,
   "metadata": {
    "colab": {
     "base_uri": "https://localhost:8080/",
     "height": 419
    },
    "id": "3NSMNG12gQ7w",
    "outputId": "e407d82b-04f7-4213-fb57-52df9075c38d"
   },
   "outputs": [
    {
     "data": {
      "text/html": [
       "<div>\n",
       "<style scoped>\n",
       "    .dataframe tbody tr th:only-of-type {\n",
       "        vertical-align: middle;\n",
       "    }\n",
       "\n",
       "    .dataframe tbody tr th {\n",
       "        vertical-align: top;\n",
       "    }\n",
       "\n",
       "    .dataframe thead th {\n",
       "        text-align: right;\n",
       "    }\n",
       "</style>\n",
       "<table border=\"1\" class=\"dataframe\">\n",
       "  <thead>\n",
       "    <tr style=\"text-align: right;\">\n",
       "      <th></th>\n",
       "      <th>Predicted y</th>\n",
       "      <th>Actual y test</th>\n",
       "    </tr>\n",
       "  </thead>\n",
       "  <tbody>\n",
       "    <tr>\n",
       "      <th>444</th>\n",
       "      <td>0</td>\n",
       "      <td>0</td>\n",
       "    </tr>\n",
       "    <tr>\n",
       "      <th>263</th>\n",
       "      <td>0</td>\n",
       "      <td>0</td>\n",
       "    </tr>\n",
       "    <tr>\n",
       "      <th>364</th>\n",
       "      <td>1</td>\n",
       "      <td>1</td>\n",
       "    </tr>\n",
       "    <tr>\n",
       "      <th>335</th>\n",
       "      <td>0</td>\n",
       "      <td>0</td>\n",
       "    </tr>\n",
       "    <tr>\n",
       "      <th>473</th>\n",
       "      <td>1</td>\n",
       "      <td>1</td>\n",
       "    </tr>\n",
       "    <tr>\n",
       "      <th>...</th>\n",
       "      <td>...</td>\n",
       "      <td>...</td>\n",
       "    </tr>\n",
       "    <tr>\n",
       "      <th>77</th>\n",
       "      <td>0</td>\n",
       "      <td>0</td>\n",
       "    </tr>\n",
       "    <tr>\n",
       "      <th>454</th>\n",
       "      <td>1</td>\n",
       "      <td>1</td>\n",
       "    </tr>\n",
       "    <tr>\n",
       "      <th>461</th>\n",
       "      <td>0</td>\n",
       "      <td>0</td>\n",
       "    </tr>\n",
       "    <tr>\n",
       "      <th>348</th>\n",
       "      <td>1</td>\n",
       "      <td>1</td>\n",
       "    </tr>\n",
       "    <tr>\n",
       "      <th>559</th>\n",
       "      <td>1</td>\n",
       "      <td>1</td>\n",
       "    </tr>\n",
       "  </tbody>\n",
       "</table>\n",
       "<p>114 rows × 2 columns</p>\n",
       "</div>"
      ],
      "text/plain": [
       "     Predicted y  Actual y test\n",
       "444            0              0\n",
       "263            0              0\n",
       "364            1              1\n",
       "335            0              0\n",
       "473            1              1\n",
       "..           ...            ...\n",
       "77             0              0\n",
       "454            1              1\n",
       "461            0              0\n",
       "348            1              1\n",
       "559            1              1\n",
       "\n",
       "[114 rows x 2 columns]"
      ]
     },
     "execution_count": 14,
     "metadata": {},
     "output_type": "execute_result"
    }
   ],
   "source": [
    "# Actual test data vs the Predicted data\n",
    "comparison_df = pd.DataFrame({\n",
    "    'Predicted y': y_pred,\n",
    "    'Actual y test': y_test\n",
    "})\n",
    "comparison_df"
   ]
  },
  {
   "cell_type": "code",
   "execution_count": null,
   "metadata": {},
   "outputs": [],
   "source": [
    "#Performance measure"
   ]
  },
  {
   "cell_type": "code",
   "execution_count": 15,
   "metadata": {
    "colab": {
     "base_uri": "https://localhost:8080/"
    },
    "id": "8ec83EQ-hhdo",
    "outputId": "a6218b8c-e5a8-402d-8baf-18584385bddd"
   },
   "outputs": [
    {
     "data": {
      "text/plain": [
       "array([[40,  2],\n",
       "       [ 1, 71]], dtype=int64)"
      ]
     },
     "execution_count": 15,
     "metadata": {},
     "output_type": "execute_result"
    }
   ],
   "source": [
    "# Confusion matrix\n",
    "confusion_matrix(y_test,y_pred,labels=[0,1])"
   ]
  },
  {
   "cell_type": "code",
   "execution_count": 16,
   "metadata": {
    "colab": {
     "base_uri": "https://localhost:8080/"
    },
    "id": "cTwSDN3ehhqO",
    "outputId": "5326c38b-8ac2-46c1-907e-770ba374cbfd"
   },
   "outputs": [
    {
     "data": {
      "text/plain": [
       "0.9793103448275863"
      ]
     },
     "execution_count": 16,
     "metadata": {},
     "output_type": "execute_result"
    }
   ],
   "source": [
    "# f1 Score\n",
    "f1_score(y_test,y_pred,labels=1)"
   ]
  },
  {
   "cell_type": "code",
   "execution_count": 17,
   "metadata": {
    "colab": {
     "base_uri": "https://localhost:8080/"
    },
    "id": "L4bONtuhhh0X",
    "outputId": "debdf301-8dfe-4398-f034-00172834fa71"
   },
   "outputs": [
    {
     "data": {
      "text/plain": [
       "0.9736842105263158"
      ]
     },
     "execution_count": 17,
     "metadata": {},
     "output_type": "execute_result"
    }
   ],
   "source": [
    "# Accuracy\n",
    "accuracy_score(y_test,y_pred)"
   ]
  },
  {
   "cell_type": "code",
   "execution_count": 18,
   "metadata": {
    "colab": {
     "base_uri": "https://localhost:8080/"
    },
    "id": "tErF0F_hhh-i",
    "outputId": "46dad506-5322-4ae8-e8df-b26f237aaeca"
   },
   "outputs": [
    {
     "data": {
      "text/plain": [
       "0.9523809523809523"
      ]
     },
     "execution_count": 18,
     "metadata": {},
     "output_type": "execute_result"
    }
   ],
   "source": [
    "# Recall\n",
    "recall_score(y_test,y_pred,pos_label=0)"
   ]
  }
 ],
 "metadata": {
  "colab": {
   "collapsed_sections": [],
   "name": "KNNBreastCancer.ipynb",
   "provenance": []
  },
  "kernelspec": {
   "display_name": "Python 3",
   "language": "python",
   "name": "python3"
  },
  "language_info": {
   "codemirror_mode": {
    "name": "ipython",
    "version": 3
   },
   "file_extension": ".py",
   "mimetype": "text/x-python",
   "name": "python",
   "nbconvert_exporter": "python",
   "pygments_lexer": "ipython3",
   "version": "3.8.5"
  }
 },
 "nbformat": 4,
 "nbformat_minor": 1
}
